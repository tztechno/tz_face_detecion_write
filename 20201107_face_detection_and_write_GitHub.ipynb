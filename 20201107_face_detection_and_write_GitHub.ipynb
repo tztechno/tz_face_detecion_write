{
 "cells": [
  {
   "cell_type": "code",
   "execution_count": 1,
   "metadata": {},
   "outputs": [
    {
     "name": "stdout",
     "output_type": "stream",
     "text": [
      "IMG_0355.HEIC\n",
      "IMG_0357.HEIC\n",
      "IMG_0360.HEIC\n",
      "IMG_0361.HEIC\n"
     ]
    }
   ],
   "source": [
    "# make 600*600 png file\n",
    "\n",
    "import os\n",
    "import subprocess\n",
    "from PIL import Image\n",
    "import matplotlib.pyplot as plt\n",
    "import numpy as np\n",
    "import cv2 as cv\n",
    "\n",
    "dir0 = 'org' \n",
    "dir1 = 'png'\n",
    "dir2 = 'png_resize'\n",
    "dir3 = 'face'\n",
    "\n",
    "files0 = os.listdir(dir0)\n",
    "files0.sort()\n",
    "\n",
    "for file in files0:\n",
    "\n",
    "    if '.HEIC'  in file:        \n",
    "        command = 'sips --setProperty format png ' + dir0 +'/' + file +  ' --out ' + dir1 +'/' +  file.replace('.HEIC','.png') \n",
    "        subprocess.call(command, shell=True)\n",
    "        print(file) \n",
    "\n",
    "files1 = os.listdir(dir1)\n",
    "files1.sort()\n"
   ]
  },
  {
   "cell_type": "code",
   "execution_count": 2,
   "metadata": {},
   "outputs": [
    {
     "name": "stdout",
     "output_type": "stream",
     "text": [
      "IMG_0355.png\n",
      "IMG_0357.png\n",
      "IMG_0360.png\n",
      "IMG_0361.png\n"
     ]
    }
   ],
   "source": [
    "for file in files1:   \n",
    "    if '.png' in file:   \n",
    "        img0 = os.path.join(dir1, file)\n",
    "        img0_img = Image.open(img0)\n",
    "        img1_img = img0_img.resize((600,600)) \n",
    "        img1 = os.path.join(dir2, file) \n",
    "        img1_img.save(img1)\n",
    "        print(file) "
   ]
  },
  {
   "cell_type": "code",
   "execution_count": 3,
   "metadata": {},
   "outputs": [],
   "source": [
    "files2 = os.listdir(dir2)\n",
    "files2.sort()    "
   ]
  },
  {
   "cell_type": "code",
   "execution_count": 4,
   "metadata": {},
   "outputs": [],
   "source": [
    "# define face classifire\n",
    "\n",
    "face_cascade1 = cv.CascadeClassifier('haarcascade_frontalface_default.xml')\n",
    "#face_cascade2 = cv.CascadeClassifier('haarcascade_profileface.xml')"
   ]
  },
  {
   "cell_type": "code",
   "execution_count": 5,
   "metadata": {},
   "outputs": [
    {
     "name": "stdout",
     "output_type": "stream",
     "text": [
      "IMG_0355_246_128.png\n",
      "IMG_0357_243_238.png\n",
      "IMG_0360_382_167.png\n",
      "IMG_0360_120_342.png\n",
      "IMG_0361_233_80.png\n"
     ]
    }
   ],
   "source": [
    "# face detection and create face file \n",
    "\n",
    "for file in files2:\n",
    "    if '.png' in file:\n",
    "        dirfile = os.path.join(dir2, file) \n",
    "        img = cv.imread(dirfile)\n",
    "        gray = cv.cvtColor(img, cv.COLOR_BGR2GRAY)\n",
    "        \n",
    "        faces1 = face_cascade1.detectMultiScale(gray, 1.3, 5)\n",
    "        \n",
    "        for (x,y,w,h) in faces1:\n",
    "            face = img[y-10:y+h+10, x-10:x+w+10]\n",
    "            face_name = str(file.strip('.png'))+'_'+str(x)+'_'+str(y)+'.png'\n",
    "            dirface = os.path.join(dir3,face_name)\n",
    "            facefile = cv.imwrite(dirface, face) \n",
    "            #cv.rectangle(img,(x-10,y-10),(x+w+10,y+h+10),(255,0,0),2)\n",
    "            print(face_name)\n",
    "             "
   ]
  },
  {
   "cell_type": "code",
   "execution_count": null,
   "metadata": {},
   "outputs": [],
   "source": []
  },
  {
   "cell_type": "code",
   "execution_count": null,
   "metadata": {},
   "outputs": [],
   "source": []
  }
 ],
 "metadata": {
  "kernelspec": {
   "display_name": "Python 3",
   "language": "python",
   "name": "python3"
  },
  "language_info": {
   "codemirror_mode": {
    "name": "ipython",
    "version": 3
   },
   "file_extension": ".py",
   "mimetype": "text/x-python",
   "name": "python",
   "nbconvert_exporter": "python",
   "pygments_lexer": "ipython3",
   "version": "3.7.7"
  }
 },
 "nbformat": 4,
 "nbformat_minor": 2
}
